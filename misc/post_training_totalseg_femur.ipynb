{
 "cells": [
  {
   "cell_type": "code",
   "execution_count": null,
   "metadata": {},
   "outputs": [],
   "source": [
    "import os\n",
    "from pathlib import Path \n",
    "import wandb\n",
    "wandb.login()"
   ]
  },
  {
   "cell_type": "code",
   "execution_count": null,
   "metadata": {},
   "outputs": [],
   "source": [
    "os.chdir('/mnt/SSD0/mahesh-home/xrayto3D-benchmark/')\n",
    "!pwd"
   ]
  },
  {
   "cell_type": "code",
   "execution_count": null,
   "metadata": {},
   "outputs": [],
   "source": [
    "def filter_wandb_run(anatomy,project_name='msrepo/2d-3d-benchmark',tags=['model-compare']):\n",
    "    api = wandb.Api()\n",
    "    runs = api.runs(project_name,filters={\n",
    "        'tags':{'$in':tags}\n",
    "    })\n",
    "    filtered_runs = [ run for run in runs if run.config['ANATOMY'] == anatomy]\n",
    "    return filtered_runs"
   ]
  },
  {
   "cell_type": "code",
   "execution_count": null,
   "metadata": {},
   "outputs": [],
   "source": [
    "def get_latest_checkpoint(path):\n",
    "    checkpoints = list(Path(path).glob('epoch=*.ckpt'))\n",
    "    latest_checkpoint_path = max(checkpoints,key=lambda x: x.lstat().st_ctime)\n",
    "    return str(latest_checkpoint_path)"
   ]
  },
  {
   "cell_type": "code",
   "execution_count": null,
   "metadata": {},
   "outputs": [],
   "source": [
    "def get_experiment_name_from_model_name(model_name):\n",
    "    expt_dict = {'OneDConcat':'ParallelHeadsExperiment','MultiScale2DPermuteConcat':'ParallelHeadsExperiment','TwoDPermuteConcatModel':'ParallelHeadsExperiment','AttentionUnet':'VolumeAsInputExperiment',\n",
    "                 'TwoDPermuteConcat':'ParallelHeadsExperiment',\n",
    "                 'OneDConcatModel':'ParallelHeadsExperiment',\n",
    "    'UNet':'VolumeAsInputExperiment','TLPredictor':'TLPredictorExperiment'}\n",
    "    return expt_dict[model_name]"
   ]
  },
  {
   "cell_type": "code",
   "execution_count": null,
   "metadata": {},
   "outputs": [],
   "source": [
    "def get_run_from_model_name(model_name,wandb_runs):\n",
    "    for run in wandb_runs:\n",
    "        if run.config['MODEL_NAME'] == model_name:\n",
    "            return run\n",
    "    raise ValueError(f'{model_name} not found')\n"
   ]
  },
  {
   "cell_type": "code",
   "execution_count": null,
   "metadata": {},
   "outputs": [],
   "source": [
    "train_csv_path = 'configs/paths/femur/30k/TotalSegmentor-femur-left-DRR-30k_train+val.csv'\n",
    "test_csv_path = 'configs/paths/femur/30k/TotalSegmentor-femur-left-DRR-30k_test.csv'\n",
    "gpu = 0\n",
    "femur_img_size = 128\n",
    "femur_resolution = 1.0\n",
    "femur_runs = filter_wandb_run(anatomy='femur')\n",
    "for run in femur_runs:\n",
    "    print(run.id,run.config['MODEL_NAME'])"
   ]
  },
  {
   "cell_type": "code",
   "execution_count": null,
   "metadata": {},
   "outputs": [],
   "source": [
    "accelerator = 'gpu'\n",
    "batch_size = 2\n",
    "for run in femur_runs:\n",
    "    model_name = run.config['MODEL_NAME']\n",
    "    input_type = get_experiment_name_from_model_name(model_name)\n",
    "    run_id = str(run.id)\n",
    "    checkpoint_path = get_latest_checkpoint(f'runs/2d-3d-benchmark/{run_id}/checkpoints/') \n",
    "    output_dir = f'runs/2d-3d-benchmark/{run_id}/evaluation'\n",
    "    command = f'python train.py  {train_csv_path} {test_csv_path} --gpu {gpu} --tags   model-compare --size {femur_img_size} --batch_size {batch_size} --accelerator {accelerator} --res {femur_resolution} --precision 16 --model_name {model_name} --experiment_name {input_type} --epochs -1 --anatomy femur --loss DiceLoss  --lr 0.002 --steps 3000 --evaluate --save_predictions --checkpoint_path {checkpoint_path} --output_dir {output_dir}'\n",
    "    if model_name == 'TLPredictor':\n",
    "        command += ' --load_autoencoder_from runs/2d-3d-benchmark/d2pnyx7v/checkpoints/last.ckpt'\n",
    "    print(command,'\\n')\n",
    "    os.system(command)\n",
    "clear_output(wait=True)"
   ]
  },
  {
   "cell_type": "code",
   "execution_count": null,
   "metadata": {},
   "outputs": [],
   "source": [
    "!python train.py  configs/paths/femur/30k/TotalSegmentor-femur-left-DRR-30k_train+val.csv configs/paths/femur/30k/TotalSegmentor-femur-left-DRR-30k_test.csv --gpu 0 --tags   model-compare --size 128 --batch_size 2 --accelerator gpu --res 1.0 --precision 16 --model_name MultiScale2DPermuteConcat --experiment_name ParallelHeadsExperiment --epochs -1 --anatomy femur --loss DiceLoss  --lr 0.002 --steps 3000 --evaluate --save_predictions --checkpoint_path runs/2d-3d-benchmark/odvwh69h/checkpoints/epoch=40-step=4000-val_loss=0.07-val_acc=0.93.ckpt --output_dir runs/2d-3d-benchmark/odvwh69h/evaluation "
   ]
  },
  {
   "cell_type": "code",
   "execution_count": 77,
   "metadata": {},
   "outputs": [
    {
     "name": "stdout",
     "output_type": "stream",
     "text": [
      "ceio7qj7 AttentionUnet\n",
      "yp62xxp0 UNet\n",
      "odvwh69h MultiScale2DPermuteConcat\n",
      "axwfvhyg TwoDPermuteConcatModel\n",
      "3x3ap0vm OneDConcatModel\n",
      "iy85yu4l TLPredictor\n"
     ]
    },
    {
     "data": {
      "text/plain": [
       "' & AttentionUnet & 1.5M & 0.94  & 3.56 & 0.97  & 0.78\\\\ & UNet & 1.2M & 0.93  & 3.49 & 1.01  & 0.74\\\\ & MultiScale2DPermuteConcat & 3.5M & 0.93  & 3.35 & 1.06  & 0.77\\\\ & TwoDPermuteConcatModel & 1.2M & 0.94  & 3.01 & 0.88  & 0.78\\\\ & OneDConcatModel & 40.6M & 0.90  & 4.44 & 1.41  & 0.61\\\\ & TLPredictor & 6.6M & 0.88  & 5.03 & 1.95  & 0.52\\\\'"
      ]
     },
     "execution_count": 77,
     "metadata": {},
     "output_type": "execute_result"
    }
   ],
   "source": [
    "import pandas as pd\n",
    "latex_table = \"\"\n",
    "latex_table_row_template = \" & {model_name} & {model_size} & {DSC:.2f}  & {HD95:.2f} & {ASD:.2f}  & {NSD:.2f}\\\\\"\n",
    "MODEL_NAMES = ['AttentionUnet','UNet','MultiScale2DPermuteConcat','TwoDPermuteConcatModel','OneDConcatModel','TLPredictor']\n",
    "model_sizes = {'AttentionUnet':'1.5M','UNet':'1.2M','MultiScale2DPermuteConcat':'3.5M','TwoDPermuteConcatModel':'1.2M','OneDConcatModel':'40.6M','TLPredictor':'6.6M'}\n",
    "for model in MODEL_NAMES:\n",
    "    run = get_run_from_model_name(model,femur_runs)\n",
    "    print(run.id,run.config['MODEL_NAME'])\n",
    "    eval_log_csv_path = f'/mnt/SSD0/mahesh-home/xrayto3D-benchmark/runs/2d-3d-benchmark/{run.id}/evaluation/metric-log.csv'\n",
    "    df = pd.read_csv(eval_log_csv_path)\n",
    "    latex_table += latex_table_row_template.format(\n",
    "        model_name=run.config['MODEL_NAME'],\n",
    "        DSC = df.mean(numeric_only=True).DSC,\n",
    "        HD95 = df.mean(numeric_only=True).HD95,\n",
    "        ASD = df.mean(numeric_only=True).ASD,\n",
    "        NSD = df.mean(numeric_only=True).NSD,\n",
    "        model_size=model_sizes[model])\n",
    "latex_table"
   ]
  },
  {
   "cell_type": "code",
   "execution_count": null,
   "metadata": {},
   "outputs": [],
   "source": []
  }
 ],
 "metadata": {
  "kernelspec": {
   "display_name": "xrayto3dbenchmark-cuda_11",
   "language": "python",
   "name": "python3"
  },
  "language_info": {
   "codemirror_mode": {
    "name": "ipython",
    "version": 3
   },
   "file_extension": ".py",
   "mimetype": "text/x-python",
   "name": "python",
   "nbconvert_exporter": "python",
   "pygments_lexer": "ipython3",
   "version": "3.8.16"
  },
  "orig_nbformat": 4,
  "vscode": {
   "interpreter": {
    "hash": "662bdad93655923bdfd290e6298f1b08a08219358abebfe44fc131957365ec24"
   }
  }
 },
 "nbformat": 4,
 "nbformat_minor": 2
}
