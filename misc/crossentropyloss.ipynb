{
 "cells": [
  {
   "cell_type": "code",
   "execution_count": 17,
   "metadata": {},
   "outputs": [],
   "source": [
    "from xrayto3d_preprocess.sitk_utils import get_segmentation_stats\n",
    "from xrayto3d_preprocess import read_image\n",
    "from pathlib import Path\n",
    "import numpy as np"
   ]
  },
  {
   "cell_type": "code",
   "execution_count": 30,
   "metadata": {},
   "outputs": [
    {
     "name": "stdout",
     "output_type": "stream",
     "text": [
      "Vertebra avg pos weight 20.212569507123874\n"
     ]
    }
   ],
   "source": [
    "lidc_sample_path = '/mnt/SSD0/mahesh-home/xrayto3D-benchmark/2D-3D-Reconstruction-Datasets/lidc/subjectwise/LIDC-IDRI-LUNA-0000/derivatives/seg_roi'\n",
    "pos_weight = []\n",
    "for seg_path in Path(lidc_sample_path).glob('*.nii.gz'):\n",
    "    img = read_image(str(seg_path))\n",
    "    stats = get_segmentation_stats(img)\n",
    "    label_voxels = stats.GetNumberOfPixels(1)\n",
    "    total_voxels = np.prod(img.GetSize())\n",
    "    pos_weight.append(total_voxels/label_voxels)\n",
    "print('Vertebra avg pos weight',np.mean(pos_weight))"
   ]
  },
  {
   "cell_type": "code",
   "execution_count": null,
   "metadata": {},
   "outputs": [],
   "source": [
    "totalsegmentor_path = '/mnt/SSD0/mahesh-home/xrayto3D-benchmark/2D-3D-Reconstruction-Datasets/totalsegmentator/Totalsegmentator_dataset'\n",
    "pos_weight = []\n",
    "for seg_path in Path(totalsegmentor_path).rglob('*femur*.nii.gz'):\n",
    "    img = read_image(str(seg_path))\n",
    "    stats = get_segmentation_stats(img)\n",
    "    label_voxels = [stats.GetNumberOfPixels(l) for l in stats.GetLabels()]\n",
    "    total_voxels = np.prod(img.GetSize())\n",
    "    for l in label_voxels:\n",
    "        pos_weight.append(total_voxels/l)\n",
    "print('femur avg pos weight',np.mean(pos_weight))"
   ]
  },
  {
   "cell_type": "code",
   "execution_count": 35,
   "metadata": {},
   "outputs": [
    {
     "name": "stdout",
     "output_type": "stream",
     "text": [
      "femur avg pos weight 612.9801077031705\n"
     ]
    }
   ],
   "source": [
    "print('femur avg pos weight',np.mean(pos_weight))"
   ]
  },
  {
   "cell_type": "code",
   "execution_count": null,
   "metadata": {},
   "outputs": [],
   "source": []
  }
 ],
 "metadata": {
  "kernelspec": {
   "display_name": "xrayto3dbenchmark-cuda_11",
   "language": "python",
   "name": "python3"
  },
  "language_info": {
   "codemirror_mode": {
    "name": "ipython",
    "version": 3
   },
   "file_extension": ".py",
   "mimetype": "text/x-python",
   "name": "python",
   "nbconvert_exporter": "python",
   "pygments_lexer": "ipython3",
   "version": "3.8.16"
  },
  "orig_nbformat": 4,
  "vscode": {
   "interpreter": {
    "hash": "662bdad93655923bdfd290e6298f1b08a08219358abebfe44fc131957365ec24"
   }
  }
 },
 "nbformat": 4,
 "nbformat_minor": 2
}
