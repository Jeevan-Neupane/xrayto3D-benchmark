{
 "cells": [
  {
   "cell_type": "code",
   "execution_count": 22,
   "metadata": {},
   "outputs": [],
   "source": [
    "import xrayto3d_preprocess\n",
    "import wandb\n",
    "import pandas as pd"
   ]
  },
  {
   "cell_type": "code",
   "execution_count": 4,
   "metadata": {},
   "outputs": [
    {
     "name": "stdout",
     "output_type": "stream",
     "text": [
      "2023-02-21 23:33:22,978 - Failed to detect the name of this notebook, you can set it manually with the WANDB_NOTEBOOK_NAME environment variable to enable code saving.\n"
     ]
    },
    {
     "name": "stderr",
     "output_type": "stream",
     "text": [
      "\u001b[34m\u001b[1mwandb\u001b[0m: Currently logged in as: \u001b[33mmsrepo\u001b[0m. Use \u001b[1m`wandb login --relogin`\u001b[0m to force relogin\n"
     ]
    },
    {
     "data": {
      "text/plain": [
       "True"
      ]
     },
     "execution_count": 4,
     "metadata": {},
     "output_type": "execute_result"
    }
   ],
   "source": [
    "wandb.login()"
   ]
  },
  {
   "cell_type": "code",
   "execution_count": 37,
   "metadata": {},
   "outputs": [
    {
     "name": "stdout",
     "output_type": "stream",
     "text": [
      "ceio7qj7 AttentionUnet\n",
      "yp62xxp0 UNet\n",
      "odvwh69h MultiScale2DPermuteConcat\n",
      "axwfvhyg TwoDPermuteConcatModel\n",
      "3x3ap0vm OneDConcatModel\n"
     ]
    }
   ],
   "source": [
    "api = wandb.Api()\n",
    "runs = api.runs('msrepo/2d-3d-benchmark',filters={'tags':{'$in':['model-compare']}})\n",
    "latex_table = \"\"\n",
    "latex_table_row_template = \" & {model_name} &  & {DSC:.2f}  & {HD95:.2f} & {ASD:.2f}  & {NSD:.2f}\\\\\"\n",
    "for run in runs:\n",
    "    print(run.id,run.config['MODEL_NAME'])\n",
    "    eval_log_csv_path = f'/mnt/SSD0/mahesh-home/xrayto3D-benchmark/runs/2d-3d-benchmark/{run.id}/evaluation/metric-log.csv'\n",
    "    df = pd.read_csv(eval_log_csv_path)\n",
    "    latex_table += latex_table_row_template.format(\n",
    "        model_name=run.config['MODEL_NAME'],\n",
    "        DSC = df.mean(numeric_only=True).DSC,\n",
    "        HD95 = df.mean(numeric_only=True).HD95,\n",
    "        ASD = df.mean(numeric_only=True).ASD,\n",
    "        NSD = df.mean(numeric_only=True).NSD)\n"
   ]
  },
  {
   "cell_type": "code",
   "execution_count": 38,
   "metadata": {},
   "outputs": [
    {
     "data": {
      "text/plain": [
       "' & AttentionUnet &  & 0.94  & 3.56 & 0.97  & 0.78\\\\ & UNet &  & 0.93  & 3.49 & 1.01  & 0.74\\\\ & MultiScale2DPermuteConcat &  & 0.93  & 3.35 & 1.06  & 0.77\\\\ & TwoDPermuteConcatModel &  & 0.94  & 3.01 & 0.88  & 0.78\\\\ & OneDConcatModel &  & 0.90  & 4.40 & 1.43  & 0.60\\\\'"
      ]
     },
     "execution_count": 38,
     "metadata": {},
     "output_type": "execute_result"
    }
   ],
   "source": [
    "latex_table"
   ]
  },
  {
   "cell_type": "code",
   "execution_count": null,
   "metadata": {},
   "outputs": [],
   "source": []
  }
 ],
 "metadata": {
  "kernelspec": {
   "display_name": "xrayto3dbenchmark-cuda_11",
   "language": "python",
   "name": "python3"
  },
  "language_info": {
   "codemirror_mode": {
    "name": "ipython",
    "version": 3
   },
   "file_extension": ".py",
   "mimetype": "text/x-python",
   "name": "python",
   "nbconvert_exporter": "python",
   "pygments_lexer": "ipython3",
   "version": "3.8.16"
  },
  "orig_nbformat": 4,
  "vscode": {
   "interpreter": {
    "hash": "662bdad93655923bdfd290e6298f1b08a08219358abebfe44fc131957365ec24"
   }
  }
 },
 "nbformat": 4,
 "nbformat_minor": 2
}
