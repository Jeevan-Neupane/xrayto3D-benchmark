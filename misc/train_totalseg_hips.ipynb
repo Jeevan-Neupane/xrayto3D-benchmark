{
 "cells": [
  {
   "cell_type": "code",
   "execution_count": 1,
   "metadata": {},
   "outputs": [
    {
     "name": "stderr",
     "output_type": "stream",
     "text": [
      "Failed to load image Python extension: /mnt/SSD0/mahesh-home/miniconda3/envs/xrayto3dbenchmark-cuda_11/lib/python3.8/site-packages/torchvision/image.so: undefined symbol: _ZN2at4_ops19empty_memory_format4callEN3c108ArrayRefIlEENS2_8optionalINS2_10ScalarTypeEEENS5_INS2_6LayoutEEENS5_INS2_6DeviceEEENS5_IbEENS5_INS2_12MemoryFormatEEE\n"
     ]
    },
    {
     "name": "stdout",
     "output_type": "stream",
     "text": [
      "2023-02-26 23:30:43,143 - Created a temporary directory at /tmp/tmppfr199zi\n",
      "2023-02-26 23:30:43,145 - Writing /tmp/tmppfr199zi/_remote_module_non_scriptable.py\n"
     ]
    }
   ],
   "source": [
    "import friendlywords as fw\n",
    "from XrayTo3DShape import CustomAutoEncoder, TLPredictor,VolumeAsInputExperiment,filter_wandb_run\n",
    "import os"
   ]
  },
  {
   "cell_type": "code",
   "execution_count": 2,
   "metadata": {},
   "outputs": [],
   "source": [
    "os.chdir('/mnt/SSD0/mahesh-home/xrayto3D-benchmark')"
   ]
  },
  {
   "cell_type": "code",
   "execution_count": 3,
   "metadata": {},
   "outputs": [],
   "source": [
    "expt_dict = {'OneDConcat':'ParallelHeadsExperiment','MultiScale2DPermuteConcat':'ParallelHeadsExperiment','TwoDPermuteConcat':'ParallelHeadsExperiment','AttentionUnet':'VolumeAsInputExperiment',\n",
    "'UNet':'VolumeAsInputExperiment'}"
   ]
  },
  {
   "cell_type": "code",
   "execution_count": null,
   "metadata": {},
   "outputs": [],
   "source": [
    "train_csv_path = 'configs/paths/totalsegmentator_hips/TotalSegmentor-hips-DRR-full_train.csv'\n",
    "test_csv_path = 'configs/paths/totalsegmentator_hips/TotalSegmentor-hips-DRR-full_val.csv'\n",
    "gpu = 0\n",
    "img_size = 128\n",
    "resolution = 2.25\n",
    "model_name = CustomAutoEncoder.__name__\n",
    "unique_tag = fw.generate(1)\n",
    "command = f'python train.py  {train_csv_path} {test_csv_path} --gpu {gpu} --tags   model-selection {unique_tag} --size {img_size} --batch_size 8 --accelerator gpu --res {resolution} --precision 16 --model_name {model_name} --epochs -1 --anatomy hip --loss BCEWithLogitsLoss  --lr 0.002 --steps 2500'\n",
    "print(command)\n",
    "\n",
    "model_name = TLPredictor.__name__\n",
    "command = f'python train.py  {train_csv_path} {test_csv_path} --gpu {gpu} --tags   model-selection {unique_tag} --size {img_size} --batch_size 8 --accelerator gpu --res {resolution} --precision 16 --model_name {model_name} --epochs -1 --anatomy hip --loss DiceLoss  --lr 0.002 --steps 3000 '\n",
    "runs = filter_wandb_run(anatomy='hip',tags=[unique_tag])\n",
    "run_ids = [run.id for run in runs if run.config['model_name'] == CustomAutoEncoder.__name__]\n",
    "print(run_ids)\n",
    "assert len(run_ids) == 1, f'More than 1 runs found with tag {unique_tag}'\n",
    "autoencoder_runid = run_ids[0]\n",
    "print([run.id for run in runs])\n",
    "if model_name == TLPredictor.__name__:\n",
    "    command += f' --load_autoencoder_from runs/2d-3d-benchmark/{autoencoder_runid}/checkpoints/last.ckpt'\n",
    "print(command)\n"
   ]
  },
  {
   "cell_type": "code",
   "execution_count": 13,
   "metadata": {},
   "outputs": [
    {
     "name": "stdout",
     "output_type": "stream",
     "text": [
      "python train.py  configs/paths/totalsegmentator_hips/TotalSegmentor-hips-DRR-full_train.csv configs/paths/totalsegmentator_hips/TotalSegmentor-hips-DRR-full_val.csv --gpu 0 --tags   model-selection card --size 128 --batch_size 8 --accelerator gpu --res 2.25 --precision 16 --model_name OneDConcat --epochs -1 --anatomy hip --loss DiceLoss  --lr 0.002 --steps 3000  \n",
      "\n",
      "python train.py  configs/paths/totalsegmentator_hips/TotalSegmentor-hips-DRR-full_train.csv configs/paths/totalsegmentator_hips/TotalSegmentor-hips-DRR-full_val.csv --gpu 0 --tags   model-selection vest --size 128 --batch_size 8 --accelerator gpu --res 2.25 --precision 16 --model_name MultiScale2DPermuteConcat --epochs -1 --anatomy hip --loss DiceLoss  --lr 0.002 --steps 3000  \n",
      "\n",
      "python train.py  configs/paths/totalsegmentator_hips/TotalSegmentor-hips-DRR-full_train.csv configs/paths/totalsegmentator_hips/TotalSegmentor-hips-DRR-full_val.csv --gpu 0 --tags   model-selection mallet --size 128 --batch_size 8 --accelerator gpu --res 2.25 --precision 16 --model_name TwoDPermuteConcat --epochs -1 --anatomy hip --loss DiceLoss  --lr 0.002 --steps 3000  \n",
      "\n",
      "python train.py  configs/paths/totalsegmentator_hips/TotalSegmentor-hips-DRR-full_train.csv configs/paths/totalsegmentator_hips/TotalSegmentor-hips-DRR-full_val.csv --gpu 0 --tags   model-selection pepperberry --size 128 --batch_size 8 --accelerator gpu --res 2.25 --precision 16 --model_name AttentionUnet --epochs -1 --anatomy hip --loss DiceLoss  --lr 0.002 --steps 3000  \n",
      "\n",
      "python train.py  configs/paths/totalsegmentator_hips/TotalSegmentor-hips-DRR-full_train.csv configs/paths/totalsegmentator_hips/TotalSegmentor-hips-DRR-full_val.csv --gpu 0 --tags   model-selection earwig --size 128 --batch_size 8 --accelerator gpu --res 2.25 --precision 16 --model_name UNet --epochs -1 --anatomy hip --loss DiceLoss  --lr 0.002 --steps 3000  \n",
      "\n"
     ]
    }
   ],
   "source": [
    "for model_name,_ in expt_dict.items():\n",
    "    unique_tag = fw.generate(1)\n",
    "\n",
    "    command = f'python train.py  {train_csv_path} {test_csv_path} --gpu {gpu} --tags   model-selection {unique_tag} --size {img_size} --batch_size 8 --accelerator gpu --res {resolution} --precision 16 --model_name {model_name} --epochs -1 --anatomy hip --loss DiceLoss  --lr 0.002 --steps 3000 '\n",
    "    print(command,'\\n')"
   ]
  },
  {
   "cell_type": "code",
   "execution_count": null,
   "metadata": {},
   "outputs": [],
   "source": []
  }
 ],
 "metadata": {
  "kernelspec": {
   "display_name": "xrayto3dbenchmark-cuda_11",
   "language": "python",
   "name": "python3"
  },
  "language_info": {
   "codemirror_mode": {
    "name": "ipython",
    "version": 3
   },
   "file_extension": ".py",
   "mimetype": "text/x-python",
   "name": "python",
   "nbconvert_exporter": "python",
   "pygments_lexer": "ipython3",
   "version": "3.8.16"
  },
  "orig_nbformat": 4,
  "vscode": {
   "interpreter": {
    "hash": "662bdad93655923bdfd290e6298f1b08a08219358abebfe44fc131957365ec24"
   }
  }
 },
 "nbformat": 4,
 "nbformat_minor": 2
}
