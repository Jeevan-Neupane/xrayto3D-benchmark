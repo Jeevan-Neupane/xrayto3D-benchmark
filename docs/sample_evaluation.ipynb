{
 "cells": [
  {
   "cell_type": "code",
   "execution_count": null,
   "metadata": {},
   "outputs": [],
   "source": [
    "from XrayTo3DShape import AttentionUnet, get_model, get_transform_from_model_name, get_dataset, VolumeAsInputExperiment\n",
    "import torch\n",
    "from torch.utils.data import DataLoader\n",
    "import ipyvolume as ipv\n",
    "import matplotlib.pyplot as plt"
   ]
  },
  {
   "cell_type": "code",
   "execution_count": 2,
   "metadata": {},
   "outputs": [],
   "source": [
    "# load model checkpoint\n",
    "model_path = '../runs/2d-3d-benchmark/yiw2kgep/checkpoints/epoch=60-step=2867-val_dice=0.85.ckpt'\n",
    "checkpoint = torch.load(model_path)\n",
    "for key in list(checkpoint[\"state_dict\"].keys()):\n",
    "    # model.layer1.conv1 -> layer1.conv1\n",
    "    if str(key).startswith(\"model.\"):\n",
    "        modified_key = str(key)[len(\"model.\") :]\n",
    "        value = checkpoint[\"state_dict\"].pop(key)\n",
    "        checkpoint[\"state_dict\"][modified_key] = value\n",
    "if \"loss_function.pos_weight\" in checkpoint[\"state_dict\"]:\n",
    "    checkpoint[\"state_dict\"].pop(\"loss_function.pos_weight\")"
   ]
  },
  {
   "cell_type": "code",
   "execution_count": 3,
   "metadata": {},
   "outputs": [
    {
     "data": {
      "text/plain": [
       "<All keys matched successfully>"
      ]
     },
     "execution_count": 3,
     "metadata": {},
     "output_type": "execute_result"
    }
   ],
   "source": [
    "model_architecture = get_model(model_name=AttentionUnet.__name__, image_size=128)\n",
    "model_architecture.load_state_dict(checkpoint[\"state_dict\"], strict=False)\n"
   ]
  },
  {
   "cell_type": "code",
   "execution_count": 4,
   "metadata": {},
   "outputs": [],
   "source": [
    "test_datapath = '../test_data/totalsegmentation_hips_test.csv'"
   ]
  },
  {
   "cell_type": "code",
   "execution_count": 5,
   "metadata": {},
   "outputs": [],
   "source": [
    "test_transform = get_transform_from_model_name(\n",
    "    AttentionUnet.__name__, image_size=128, resolution=2.25\n",
    ")\n",
    "\n",
    "test_loader = DataLoader(\n",
    "    get_dataset(test_datapath, transforms=test_transform),\n",
    "    batch_size=1,\n",
    "    num_workers=1,\n",
    "    shuffle=False,\n",
    "    drop_last=False,\n",
    ")"
   ]
  },
  {
   "cell_type": "code",
   "execution_count": null,
   "metadata": {},
   "outputs": [],
   "source": [
    "expt = VolumeAsInputExperiment(model_architecture)\n",
    "for idx, item in enumerate(test_loader):\n",
    "    input,seg = expt.get_input_output_from_batch(item)\n",
    "    out = expt.predict_step(item,idx)\n",
    "    pred, gt = out['pred'], out['gt']\n",
    "    \n",
    "    print(input[0].shape)\n"
   ]
  },
  {
   "cell_type": "code",
   "execution_count": 10,
   "metadata": {},
   "outputs": [
    {
     "data": {
      "application/vnd.jupyter.widget-view+json": {
       "model_id": "99826afaf51f4c368d609f2b4440b8b2",
       "version_major": 2,
       "version_minor": 0
      },
      "text/plain": [
       "Container(children=[VBox(children=(HBox(children=(Label(value='levels:'), FloatSlider(value=0.1, max=1.0, step…"
      ]
     },
     "metadata": {},
     "output_type": "display_data"
    }
   ],
   "source": [
    "fig = ipv.figure()\n",
    "vol = ipv.volshow(pred[0,0])\n",
    "ipv.show()"
   ]
  },
  {
   "cell_type": "code",
   "execution_count": null,
   "metadata": {},
   "outputs": [],
   "source": []
  }
 ],
 "metadata": {
  "kernelspec": {
   "display_name": "xrayto3dbenchmark-cuda_11",
   "language": "python",
   "name": "python3"
  },
  "language_info": {
   "codemirror_mode": {
    "name": "ipython",
    "version": 3
   },
   "file_extension": ".py",
   "mimetype": "text/x-python",
   "name": "python",
   "nbconvert_exporter": "python",
   "pygments_lexer": "ipython3",
   "version": "3.8.16"
  },
  "orig_nbformat": 4
 },
 "nbformat": 4,
 "nbformat_minor": 2
}
