{
 "cells": [
  {
   "cell_type": "code",
   "execution_count": 34,
   "metadata": {},
   "outputs": [],
   "source": [
    "import pandas as pd\n",
    "import matplotlib.pyplot as plt\n",
    "import tueplots\n",
    "import scienceplots\n",
    "from tueplots import figsizes, fontsizes\n",
    "plt.style.use(['science','no-latex'])\n",
    "import numpy as np\n",
    "from scipy.spatial.distance import cdist"
   ]
  },
  {
   "cell_type": "code",
   "execution_count": 81,
   "metadata": {},
   "outputs": [],
   "source": [
    "def plot_variability(csv_path):\n",
    "    df = pd.read_csv(csv_path)\n",
    "    df_numpy = df.to_numpy()\n",
    "    fhr_diff = [abs(df_numpy[i][1] - df_numpy[i+1][1]) for i in range(0,len(df_numpy),2)]\n",
    "    nsa_diff = [abs(df_numpy[i][2] - df_numpy[i+1][2]) for i in range(0,len(df_numpy),2)]\n",
    "    fo_diff = [abs(df_numpy[i][3] - df_numpy[i+1][3]) for i in range(0,len(df_numpy),2)]\n",
    "    fhc_diff = [cdist([(df_numpy[i][4],df_numpy[i][5],df_numpy[i][6]),] , [(df_numpy[i+1][4],df_numpy[i+1][5],df_numpy[i+1][6]),]).flatten()[0] for i in range(0,len(df_numpy),2)]\n",
    "    fda_diff = [np.max([abs(df_numpy[i][7]-df_numpy[i+1][7]),abs(df_numpy[i][8]-df_numpy[i+1][8]),abs(df_numpy[i][9]-df_numpy[i+1][9])]) for i in range(0,len(df_numpy),2)]\n",
    "    fna_diff = [np.max([abs(df_numpy[i][10]-df_numpy[i+1][10]),abs(df_numpy[i][11]-df_numpy[i+1][11]),abs(df_numpy[i][12]-df_numpy[i+1][12])]) for i in range(0,len(df_numpy),2)]\n",
    "\n",
    "    print(f'{np.mean(fhr_diff):.2f} +/- {np.std(fhr_diff):.2f}')\n",
    "    print(f'{np.mean(nsa_diff):.2f} +/- {np.std(nsa_diff):.2f}')\n",
    "    print(f'{np.mean(fo_diff):.2f} +/- {np.std(fo_diff):.2f}')\n",
    "    print(f'{np.mean(fhc_diff):.2f} +/- {np.std(fhc_diff):.2f}')\n",
    "    print(f'{np.mean(fda_diff):.2f} +/- {np.std(fda_diff):.2f}')\n",
    "    print(f'{np.mean(fna_diff):.2f} +/- {np.std(fna_diff):.2f}')\n",
    "\n",
    "    fig, ax = plt.subplots(1,2)\n",
    "    ax[0].boxplot([fhr_diff, fhc_diff],showfliers=False)\n",
    "    ax[0].set_xticks([1,2],['FHR','FHC'], )\n",
    "    ax[0].set_ylabel('[mm]')\n",
    "    ax[1].boxplot([nsa_diff,fda_diff,fna_diff],showfliers=False)\n",
    "    ax[1].set_xticks([1,2,3],['NSA','FDA','FNA'], )\n",
    "    ax[1].set_ylabel('[deg°]')\n",
    "    plt.savefig('repeatability_femur.pdf')\n",
    "    plt.show()\n"
   ]
  },
  {
   "cell_type": "code",
   "execution_count": 82,
   "metadata": {},
   "outputs": [
    {
     "name": "stdout",
     "output_type": "stream",
     "text": [
      "0.49 +/- 0.16\n",
      "2.33 +/- 1.63\n",
      "4.93 +/- 4.52\n",
      "0.33 +/- 0.36\n",
      "5.02 +/- 4.94\n",
      "1.64 +/- 1.21\n"
     ]
    },
    {
     "data": {
      "image/png": "[encoded data removed]",
      "text/plain": [
       "<Figure size 825x169.959 with 2 Axes>"
      ]
     },
     "metadata": {},
     "output_type": "display_data"
    }
   ],
   "source": [
    "# Increase the resolution of all the plots below\n",
    "plt.rcParams.update({\"figure.dpi\": 150})\n",
    "plt.rcParams.update(figsizes.neurips2021(nrows=1, ncols=3))\n",
    "plt.rcParams.update(fontsizes.neurips2021())\n",
    "\n",
    "plot_variability('../2D-3D-Reconstruction-Datasets/morphometry/femur_manual_cut_plane/metrics_log/femur_clinical_variability.csv')\n"
   ]
  },
  {
   "cell_type": "code",
   "execution_count": null,
   "metadata": {},
   "outputs": [],
   "source": []
  }
 ],
 "metadata": {
  "kernelspec": {
   "display_name": "xrayto3dbenchmark-cuda_11",
   "language": "python",
   "name": "python3"
  },
  "language_info": {
   "codemirror_mode": {
    "name": "ipython",
    "version": 3
   },
   "file_extension": ".py",
   "mimetype": "text/x-python",
   "name": "python",
   "nbconvert_exporter": "python",
   "pygments_lexer": "ipython3",
   "version": "3.8.16"
  },
  "orig_nbformat": 4
 },
 "nbformat": 4,
 "nbformat_minor": 2
}
